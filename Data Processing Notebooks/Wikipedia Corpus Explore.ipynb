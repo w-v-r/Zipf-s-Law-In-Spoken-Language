{
 "cells": [
  {
   "cell_type": "code",
   "execution_count": 39,
   "metadata": {
    "ExecuteTime": {
     "end_time": "2021-06-10T05:50:19.309455Z",
     "start_time": "2021-06-10T05:50:19.306348Z"
    }
   },
   "outputs": [],
   "source": [
    "import os"
   ]
  },
  {
   "cell_type": "code",
   "execution_count": 40,
   "metadata": {
    "ExecuteTime": {
     "end_time": "2021-06-10T05:50:20.273784Z",
     "start_time": "2021-06-10T05:50:20.168292Z"
    }
   },
   "outputs": [
    {
     "name": "stdout",
     "output_type": "stream",
     "text": [
      "1323\n"
     ]
    }
   ],
   "source": [
    "directory = \"/Users/test/Desktop/Audio Vox Datasets and References/english\"\n",
    "FILE_LIST = []\n",
    "for root, subdirectories, files in os.walk(directory):\n",
    "    for file in files:\n",
    "        \n",
    "        F = file.split('.')\n",
    "        if len(F) == 2:\n",
    "            if F[1] == 'txt':\n",
    "                #print(file)\n",
    "                if F[0] != 'audiometa':\n",
    "                    #print(file)\n",
    "                    file_name = os.path.join(root, file)\n",
    "                    FILE_LIST.append(file_name)\n",
    "\n",
    "        \n",
    "WIKIPEDIA_IDs = list(set(FILE_LIST))\n",
    "print(len(WIKIPEDIA_IDs))"
   ]
  },
  {
   "cell_type": "code",
   "execution_count": 41,
   "metadata": {
    "ExecuteTime": {
     "end_time": "2021-06-10T05:50:27.437798Z",
     "start_time": "2021-06-10T05:50:27.432376Z"
    }
   },
   "outputs": [],
   "source": [
    "# Strip Punctuation Function -- from: https://www.programiz.com/python-programming/examples/remove-punctuation \n",
    "\n",
    "def Strip_Punctuation(my_str):\n",
    "    # define punctuation\n",
    "    punctuations = '''!()-[]{};:|'\"\\=,<>./?@#$%^&*_~'''\n",
    "\n",
    "    #my_str = \"Hello!!!, he said ---and went.\"\n",
    "    # To take input from the user\n",
    "    # my_str = input(\"Enter a string: \")\n",
    "\n",
    "    # remove punctuation from the string\n",
    "    no_punct = \"\"\n",
    "    for char in my_str:\n",
    "        if char in punctuations:\n",
    "            no_punct = no_punct + \" \"\n",
    "        else:\n",
    "            no_punct = no_punct + char\n",
    "    # display the unpunctuated string\n",
    "    #print(no_punct)\n",
    "    return no_punct\n",
    "\n",
    "# Strip out other languages with a regular expression -- from: https://www.codegrepper.com/code-examples/python/python+remove+non+english+characters\n",
    "def nospecial(text):\n",
    "    import re\n",
    "    text = re.sub(\"[^a-zA-Z0-9]+\", \"\",text)\n",
    "    return text"
   ]
  },
  {
   "cell_type": "code",
   "execution_count": null,
   "metadata": {},
   "outputs": [],
   "source": []
  },
  {
   "cell_type": "code",
   "execution_count": 42,
   "metadata": {
    "ExecuteTime": {
     "end_time": "2021-06-10T05:52:01.213332Z",
     "start_time": "2021-06-10T05:51:36.834098Z"
    }
   },
   "outputs": [],
   "source": [
    "Wikipedia_Word_List = []\n",
    "#Speaker_Individual_Files = []\n",
    "#ample = WIKIPEDIA_IDs[:10]\n",
    "for WIKI in WIKIPEDIA_IDs:\n",
    "    pathname = WIKI\n",
    "    with open(pathname, 'r') as f:\n",
    "        lines = f.readlines()\n",
    "        for L in lines:\n",
    "            Line = L.strip()\n",
    "            Line = Strip_Punctuation(Line)\n",
    "            Line = Line.split(' ')\n",
    "            \n",
    "            for W in Line:\n",
    "                ## Remove non Latin Alphabet characters\n",
    "                W_t = nospecial(W)\n",
    "                ## Check for empty strings (returns bool)\n",
    "                if W_t:\n",
    "                    if W_t.isalpha():\n",
    "                        Wikipedia_Word_List.append(W_t)"
   ]
  },
  {
   "cell_type": "code",
   "execution_count": 43,
   "metadata": {
    "ExecuteTime": {
     "end_time": "2021-06-10T05:52:03.623106Z",
     "start_time": "2021-06-10T05:52:03.618849Z"
    }
   },
   "outputs": [
    {
     "data": {
      "text/plain": [
       "5012121"
      ]
     },
     "execution_count": 43,
     "metadata": {},
     "output_type": "execute_result"
    }
   ],
   "source": [
    "len(Wikipedia_Word_List)"
   ]
  },
  {
   "cell_type": "code",
   "execution_count": null,
   "metadata": {},
   "outputs": [],
   "source": []
  },
  {
   "cell_type": "code",
   "execution_count": 44,
   "metadata": {
    "ExecuteTime": {
     "end_time": "2021-06-10T06:10:02.009574Z",
     "start_time": "2021-06-10T06:10:02.006736Z"
    }
   },
   "outputs": [],
   "source": [
    "import pickle"
   ]
  },
  {
   "cell_type": "code",
   "execution_count": 45,
   "metadata": {
    "ExecuteTime": {
     "end_time": "2021-06-10T06:12:09.301683Z",
     "start_time": "2021-06-10T06:11:27.007411Z"
    }
   },
   "outputs": [],
   "source": [
    "path_to_pickle = \"/Volumes/LaCie/WORKING MATERIALS/Master_Dict_Update_3.pkl\"\n",
    "Master_Dict = pickle.load(open(path_to_pickle, 'rb'))"
   ]
  },
  {
   "cell_type": "code",
   "execution_count": 47,
   "metadata": {
    "ExecuteTime": {
     "end_time": "2021-06-10T06:13:23.526338Z",
     "start_time": "2021-06-10T06:13:23.519689Z"
    }
   },
   "outputs": [
    {
     "name": "stdout",
     "output_type": "stream",
     "text": [
      "Spotify Podcasts 109829290\n",
      "TEDLIUM Corpus 582721\n",
      "Buckeye Corpus 264165\n",
      "Jane Austen Novels 366454\n",
      "Bible KJV 791842\n",
      "Moby Dick 218361\n",
      "GK Chesterton 214692\n",
      "Brown Corpus 981716\n",
      "Reuters Corpus 1327141\n",
      "Switchboard Corpus Sample 62193\n"
     ]
    }
   ],
   "source": [
    "## Sanity Checks\n",
    "for K in Master_Dict.keys():\n",
    "    print(K, len(Master_Dict[K]))"
   ]
  },
  {
   "cell_type": "code",
   "execution_count": 48,
   "metadata": {
    "ExecuteTime": {
     "end_time": "2021-06-10T06:14:21.047479Z",
     "start_time": "2021-06-10T06:14:21.044583Z"
    }
   },
   "outputs": [],
   "source": [
    "Master_Dict[\"Wikipedia Sample\"] = Wikipedia_Word_List"
   ]
  },
  {
   "cell_type": "code",
   "execution_count": 49,
   "metadata": {
    "ExecuteTime": {
     "end_time": "2021-06-10T06:15:20.687666Z",
     "start_time": "2021-06-10T06:15:20.679972Z"
    }
   },
   "outputs": [
    {
     "name": "stdout",
     "output_type": "stream",
     "text": [
      "Spotify Podcasts 109829290\n",
      "TEDLIUM Corpus 582721\n",
      "Buckeye Corpus 264165\n",
      "Jane Austen Novels 366454\n",
      "Bible KJV 791842\n",
      "Moby Dick 218361\n",
      "GK Chesterton 214692\n",
      "Brown Corpus 981716\n",
      "Reuters Corpus 1327141\n",
      "Switchboard Corpus Sample 62193\n",
      "Wikipedia Sample 5012121\n"
     ]
    }
   ],
   "source": [
    "## Sanity Checks\n",
    "for K in Master_Dict.keys():\n",
    "    print(K, len(Master_Dict[K]))"
   ]
  },
  {
   "cell_type": "code",
   "execution_count": 50,
   "metadata": {
    "ExecuteTime": {
     "end_time": "2021-06-10T06:17:15.490258Z",
     "start_time": "2021-06-10T06:16:20.728573Z"
    }
   },
   "outputs": [],
   "source": [
    "\"\"\"pickle.dump(Master_Dict, open(\"Master_Dict_FINAL.pkl\", \"wb\"))\"\"\""
   ]
  },
  {
   "cell_type": "code",
   "execution_count": 51,
   "metadata": {
    "ExecuteTime": {
     "end_time": "2021-06-10T09:55:03.749148Z",
     "start_time": "2021-06-10T09:55:03.746183Z"
    }
   },
   "outputs": [],
   "source": [
    "from collections import Counter"
   ]
  },
  {
   "cell_type": "code",
   "execution_count": 52,
   "metadata": {
    "ExecuteTime": {
     "end_time": "2021-06-10T09:56:04.755144Z",
     "start_time": "2021-06-10T09:56:03.837035Z"
    }
   },
   "outputs": [],
   "source": [
    "word_count = Counter(Wikipedia_Word_List)"
   ]
  },
  {
   "cell_type": "code",
   "execution_count": null,
   "metadata": {},
   "outputs": [],
   "source": []
  }
 ],
 "metadata": {
  "kernelspec": {
   "display_name": "Python 3",
   "language": "python",
   "name": "python3"
  },
  "language_info": {
   "codemirror_mode": {
    "name": "ipython",
    "version": 3
   },
   "file_extension": ".py",
   "mimetype": "text/x-python",
   "name": "python",
   "nbconvert_exporter": "python",
   "pygments_lexer": "ipython3",
   "version": "3.7.3"
  },
  "toc": {
   "base_numbering": 1,
   "nav_menu": {},
   "number_sections": true,
   "sideBar": true,
   "skip_h1_title": false,
   "title_cell": "Table of Contents",
   "title_sidebar": "Contents",
   "toc_cell": false,
   "toc_position": {},
   "toc_section_display": true,
   "toc_window_display": false
  },
  "varInspector": {
   "cols": {
    "lenName": 16,
    "lenType": 16,
    "lenVar": 40
   },
   "kernels_config": {
    "python": {
     "delete_cmd_postfix": "",
     "delete_cmd_prefix": "del ",
     "library": "var_list.py",
     "varRefreshCmd": "print(var_dic_list())"
    },
    "r": {
     "delete_cmd_postfix": ") ",
     "delete_cmd_prefix": "rm(",
     "library": "var_list.r",
     "varRefreshCmd": "cat(var_dic_list()) "
    }
   },
   "types_to_exclude": [
    "module",
    "function",
    "builtin_function_or_method",
    "instance",
    "_Feature"
   ],
   "window_display": false
  }
 },
 "nbformat": 4,
 "nbformat_minor": 2
}
